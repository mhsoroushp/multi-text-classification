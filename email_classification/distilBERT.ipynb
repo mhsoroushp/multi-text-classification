{
 "cells": [
  {
   "cell_type": "code",
   "execution_count": 1,
   "metadata": {},
   "outputs": [
    {
     "name": "stderr",
     "output_type": "stream",
     "text": [
      "/media/soroush/Partition 3/Email-Classification/.emailvenv/lib/python3.9/site-packages/tqdm/auto.py:21: TqdmWarning: IProgress not found. Please update jupyter and ipywidgets. See https://ipywidgets.readthedocs.io/en/stable/user_install.html\n",
      "  from .autonotebook import tqdm as notebook_tqdm\n",
      "2025-01-13 08:50:49.675973: I tensorflow/core/util/port.cc:153] oneDNN custom operations are on. You may see slightly different numerical results due to floating-point round-off errors from different computation orders. To turn them off, set the environment variable `TF_ENABLE_ONEDNN_OPTS=0`.\n",
      "2025-01-13 08:50:49.779510: E external/local_xla/xla/stream_executor/cuda/cuda_fft.cc:477] Unable to register cuFFT factory: Attempting to register factory for plugin cuFFT when one has already been registered\n",
      "WARNING: All log messages before absl::InitializeLog() is called are written to STDERR\n",
      "E0000 00:00:1736754649.813501    6057 cuda_dnn.cc:8310] Unable to register cuDNN factory: Attempting to register factory for plugin cuDNN when one has already been registered\n",
      "E0000 00:00:1736754649.823674    6057 cuda_blas.cc:1418] Unable to register cuBLAS factory: Attempting to register factory for plugin cuBLAS when one has already been registered\n",
      "2025-01-13 08:50:49.898492: I tensorflow/core/platform/cpu_feature_guard.cc:210] This TensorFlow binary is optimized to use available CPU instructions in performance-critical operations.\n",
      "To enable the following instructions: AVX2 AVX512F AVX512_VNNI FMA, in other operations, rebuild TensorFlow with the appropriate compiler flags.\n"
     ]
    }
   ],
   "source": [
    "from sklearn.model_selection import train_test_split\n",
    "import transformers\n",
    "from transformers import DistilBertTokenizer\n",
    "from transformers import TFDistilBertForSequenceClassification\n",
    "from transformers import TextClassificationPipeline\n",
    "import tensorflow as tf\n",
    "import pandas as pd\n",
    "import json\n",
    "import gc\n",
    "from tqdm import tqdm"
   ]
  },
  {
   "cell_type": "code",
   "execution_count": 2,
   "metadata": {},
   "outputs": [
    {
     "name": "stdout",
     "output_type": "stream",
     "text": [
      "4.48.0\n"
     ]
    }
   ],
   "source": [
    "print(transformers.__version__)"
   ]
  },
  {
   "cell_type": "code",
   "execution_count": null,
   "metadata": {},
   "outputs": [],
   "source": [
    "# import re\n",
    "# import nltk\n",
    "# from nltk.corpus import stopwords\n",
    "# nltk.download('stopwords')\n",
    "# stopw = stopwords.words('english')"
   ]
  },
  {
   "cell_type": "code",
   "execution_count": 3,
   "metadata": {},
   "outputs": [],
   "source": [
    "import seaborn as sns\n",
    "import matplotlib.pyplot as plt\n",
    "from plotly.offline import iplot\n",
    "\n",
    "from tqdm import tqdm"
   ]
  },
  {
   "cell_type": "code",
   "execution_count": 4,
   "metadata": {},
   "outputs": [],
   "source": [
    "root_path = '../bbc-text.csv'"
   ]
  },
  {
   "cell_type": "code",
   "execution_count": 5,
   "metadata": {},
   "outputs": [
    {
     "data": {
      "text/html": [
       "<div>\n",
       "<style scoped>\n",
       "    .dataframe tbody tr th:only-of-type {\n",
       "        vertical-align: middle;\n",
       "    }\n",
       "\n",
       "    .dataframe tbody tr th {\n",
       "        vertical-align: top;\n",
       "    }\n",
       "\n",
       "    .dataframe thead th {\n",
       "        text-align: right;\n",
       "    }\n",
       "</style>\n",
       "<table border=\"1\" class=\"dataframe\">\n",
       "  <thead>\n",
       "    <tr style=\"text-align: right;\">\n",
       "      <th></th>\n",
       "      <th>category</th>\n",
       "      <th>text</th>\n",
       "    </tr>\n",
       "  </thead>\n",
       "  <tbody>\n",
       "    <tr>\n",
       "      <th>0</th>\n",
       "      <td>tech</td>\n",
       "      <td>tv future in the hands of viewers with home th...</td>\n",
       "    </tr>\n",
       "    <tr>\n",
       "      <th>1</th>\n",
       "      <td>business</td>\n",
       "      <td>worldcom boss  left books alone  former worldc...</td>\n",
       "    </tr>\n",
       "    <tr>\n",
       "      <th>2</th>\n",
       "      <td>sport</td>\n",
       "      <td>tigers wary of farrell  gamble  leicester say ...</td>\n",
       "    </tr>\n",
       "    <tr>\n",
       "      <th>3</th>\n",
       "      <td>sport</td>\n",
       "      <td>yeading face newcastle in fa cup premiership s...</td>\n",
       "    </tr>\n",
       "    <tr>\n",
       "      <th>4</th>\n",
       "      <td>entertainment</td>\n",
       "      <td>ocean s twelve raids box office ocean s twelve...</td>\n",
       "    </tr>\n",
       "  </tbody>\n",
       "</table>\n",
       "</div>"
      ],
      "text/plain": [
       "        category                                               text\n",
       "0           tech  tv future in the hands of viewers with home th...\n",
       "1       business  worldcom boss  left books alone  former worldc...\n",
       "2          sport  tigers wary of farrell  gamble  leicester say ...\n",
       "3          sport  yeading face newcastle in fa cup premiership s...\n",
       "4  entertainment  ocean s twelve raids box office ocean s twelve..."
      ]
     },
     "execution_count": 5,
     "metadata": {},
     "output_type": "execute_result"
    }
   ],
   "source": [
    "df = pd.read_csv(root_path)\n",
    "df.head()\n"
   ]
  },
  {
   "cell_type": "code",
   "execution_count": 5,
   "metadata": {},
   "outputs": [
    {
     "data": {
      "text/plain": [
       "(2225, 2)"
      ]
     },
     "execution_count": 5,
     "metadata": {},
     "output_type": "execute_result"
    }
   ],
   "source": [
    "df.shape"
   ]
  },
  {
   "cell_type": "code",
   "execution_count": 6,
   "metadata": {},
   "outputs": [
    {
     "data": {
      "text/plain": [
       "array(['tech', 'business', 'sport', 'entertainment', 'politics'],\n",
       "      dtype=object)"
      ]
     },
     "execution_count": 6,
     "metadata": {},
     "output_type": "execute_result"
    }
   ],
   "source": [
    "df['category'].unique()"
   ]
  },
  {
   "cell_type": "code",
   "execution_count": 7,
   "metadata": {},
   "outputs": [
    {
     "data": {
      "text/html": [
       "<div>\n",
       "<style scoped>\n",
       "    .dataframe tbody tr th:only-of-type {\n",
       "        vertical-align: middle;\n",
       "    }\n",
       "\n",
       "    .dataframe tbody tr th {\n",
       "        vertical-align: top;\n",
       "    }\n",
       "\n",
       "    .dataframe thead th {\n",
       "        text-align: right;\n",
       "    }\n",
       "</style>\n",
       "<table border=\"1\" class=\"dataframe\">\n",
       "  <thead>\n",
       "    <tr style=\"text-align: right;\">\n",
       "      <th></th>\n",
       "      <th>category</th>\n",
       "      <th>text</th>\n",
       "      <th>encoded_text</th>\n",
       "    </tr>\n",
       "  </thead>\n",
       "  <tbody>\n",
       "    <tr>\n",
       "      <th>0</th>\n",
       "      <td>tech</td>\n",
       "      <td>tv future in the hands of viewers with home th...</td>\n",
       "      <td>4</td>\n",
       "    </tr>\n",
       "    <tr>\n",
       "      <th>1</th>\n",
       "      <td>business</td>\n",
       "      <td>worldcom boss  left books alone  former worldc...</td>\n",
       "      <td>0</td>\n",
       "    </tr>\n",
       "    <tr>\n",
       "      <th>2</th>\n",
       "      <td>sport</td>\n",
       "      <td>tigers wary of farrell  gamble  leicester say ...</td>\n",
       "      <td>3</td>\n",
       "    </tr>\n",
       "    <tr>\n",
       "      <th>3</th>\n",
       "      <td>sport</td>\n",
       "      <td>yeading face newcastle in fa cup premiership s...</td>\n",
       "      <td>3</td>\n",
       "    </tr>\n",
       "    <tr>\n",
       "      <th>4</th>\n",
       "      <td>entertainment</td>\n",
       "      <td>ocean s twelve raids box office ocean s twelve...</td>\n",
       "      <td>1</td>\n",
       "    </tr>\n",
       "    <tr>\n",
       "      <th>5</th>\n",
       "      <td>politics</td>\n",
       "      <td>howard hits back at mongrel jibe michael howar...</td>\n",
       "      <td>2</td>\n",
       "    </tr>\n",
       "    <tr>\n",
       "      <th>6</th>\n",
       "      <td>politics</td>\n",
       "      <td>blair prepares to name poll date tony blair is...</td>\n",
       "      <td>2</td>\n",
       "    </tr>\n",
       "    <tr>\n",
       "      <th>7</th>\n",
       "      <td>sport</td>\n",
       "      <td>henman hopes ended in dubai third seed tim hen...</td>\n",
       "      <td>3</td>\n",
       "    </tr>\n",
       "    <tr>\n",
       "      <th>8</th>\n",
       "      <td>sport</td>\n",
       "      <td>wilkinson fit to face edinburgh england captai...</td>\n",
       "      <td>3</td>\n",
       "    </tr>\n",
       "    <tr>\n",
       "      <th>9</th>\n",
       "      <td>entertainment</td>\n",
       "      <td>last star wars  not for children  the sixth an...</td>\n",
       "      <td>1</td>\n",
       "    </tr>\n",
       "  </tbody>\n",
       "</table>\n",
       "</div>"
      ],
      "text/plain": [
       "        category                                               text  \\\n",
       "0           tech  tv future in the hands of viewers with home th...   \n",
       "1       business  worldcom boss  left books alone  former worldc...   \n",
       "2          sport  tigers wary of farrell  gamble  leicester say ...   \n",
       "3          sport  yeading face newcastle in fa cup premiership s...   \n",
       "4  entertainment  ocean s twelve raids box office ocean s twelve...   \n",
       "5       politics  howard hits back at mongrel jibe michael howar...   \n",
       "6       politics  blair prepares to name poll date tony blair is...   \n",
       "7          sport  henman hopes ended in dubai third seed tim hen...   \n",
       "8          sport  wilkinson fit to face edinburgh england captai...   \n",
       "9  entertainment  last star wars  not for children  the sixth an...   \n",
       "\n",
       "   encoded_text  \n",
       "0             4  \n",
       "1             0  \n",
       "2             3  \n",
       "3             3  \n",
       "4             1  \n",
       "5             2  \n",
       "6             2  \n",
       "7             3  \n",
       "8             3  \n",
       "9             1  "
      ]
     },
     "execution_count": 7,
     "metadata": {},
     "output_type": "execute_result"
    }
   ],
   "source": [
    "df['encoded_text'] = df['category'].astype('category').cat.codes\n",
    "\n",
    "df.head(10)"
   ]
  },
  {
   "cell_type": "markdown",
   "metadata": {},
   "source": [
    "### Fine-tuning"
   ]
  },
  {
   "cell_type": "code",
   "execution_count": 8,
   "metadata": {},
   "outputs": [],
   "source": [
    "from transformers import TFDistilBertForSequenceClassification, AutoTokenizer \n",
    "import tensorflow as tf"
   ]
  },
  {
   "cell_type": "code",
   "execution_count": 9,
   "metadata": {},
   "outputs": [
    {
     "name": "stderr",
     "output_type": "stream",
     "text": [
      "W0000 00:00:1736754673.343527    6057 gpu_device.cc:2344] Cannot dlopen some GPU libraries. Please make sure the missing libraries mentioned above are installed properly if you would like to use GPU. Follow the guide at https://www.tensorflow.org/install/gpu for how to download and setup the required libraries for your platform.\n",
      "Skipping registering GPU devices...\n",
      "Some weights of the PyTorch model were not used when initializing the TF 2.0 model TFDistilBertForSequenceClassification: ['vocab_transform.bias', 'vocab_projector.bias', 'vocab_layer_norm.weight', 'vocab_transform.weight', 'vocab_layer_norm.bias']\n",
      "- This IS expected if you are initializing TFDistilBertForSequenceClassification from a PyTorch model trained on another task or with another architecture (e.g. initializing a TFBertForSequenceClassification model from a BertForPreTraining model).\n",
      "- This IS NOT expected if you are initializing TFDistilBertForSequenceClassification from a PyTorch model that you expect to be exactly identical (e.g. initializing a TFBertForSequenceClassification model from a BertForSequenceClassification model).\n",
      "Some weights or buffers of the TF 2.0 model TFDistilBertForSequenceClassification were not initialized from the PyTorch model and are newly initialized: ['pre_classifier.weight', 'pre_classifier.bias', 'classifier.weight', 'classifier.bias']\n",
      "You should probably TRAIN this model on a down-stream task to be able to use it for predictions and inference.\n"
     ]
    }
   ],
   "source": [
    "# Load tokenizer and model\n",
    "tokenizer = AutoTokenizer.from_pretrained(\"distilbert-base-uncased\")\n",
    "model = TFDistilBertForSequenceClassification.from_pretrained(\"distilbert-base-uncased\", num_labels=5)"
   ]
  },
  {
   "cell_type": "code",
   "execution_count": 10,
   "metadata": {},
   "outputs": [],
   "source": [
    "data_texts = df['text'].to_list()\n",
    "data_labels = df['encoded_text'].to_list()\n",
    "\n",
    "train_texts, val_texts, train_labels, val_labels = train_test_split(data_texts, data_labels, test_size = 0.2, random_state = 0 )\n",
    "train_texts, test_texts, train_labels, test_labels = train_test_split(train_texts, train_labels, test_size = 0.01, random_state = 0 )"
   ]
  },
  {
   "cell_type": "code",
   "execution_count": 11,
   "metadata": {},
   "outputs": [],
   "source": [
    "# Define the input pipelines\n",
    "max_length = 128\n",
    "batch_size = 32\n",
    "\n",
    "train_encodings = tokenizer(list(train_texts), truncation=True, padding=True, max_length=max_length)\n",
    "val_encodings = tokenizer(list(val_texts), truncation=True, padding=True, max_length=max_length)\n",
    "test_encodings = tokenizer(list(test_texts), truncation=True, padding=True, max_length=max_length)\n",
    "\n",
    "train_dataset = tf.data.Dataset.from_tensor_slices((dict(train_encodings), train_labels)).batch(batch_size)\n",
    "val_dataset = tf.data.Dataset.from_tensor_slices((dict(val_encodings), val_labels)).batch(batch_size)\n",
    "test_dataset = tf.data.Dataset.from_tensor_slices((dict(test_encodings), test_labels)).batch(batch_size)"
   ]
  },
  {
   "cell_type": "code",
   "execution_count": 12,
   "metadata": {},
   "outputs": [],
   "source": [
    "# Compile the model\n",
    "optimizer = tf.keras.optimizers.Adam(learning_rate=2e-5)\n",
    "loss = tf.keras.losses.SparseCategoricalCrossentropy(from_logits=True)\n",
    "metric = tf.keras.metrics.SparseCategoricalAccuracy()"
   ]
  },
  {
   "cell_type": "code",
   "execution_count": 13,
   "metadata": {},
   "outputs": [],
   "source": [
    "model.compile(optimizer=optimizer, loss=loss, metrics=metric)"
   ]
  },
  {
   "cell_type": "code",
   "execution_count": 45,
   "metadata": {},
   "outputs": [
    {
     "name": "stdout",
     "output_type": "stream",
     "text": [
      "Epoch 1/100\n",
      "56/56 [==============================] - 150s 3s/step - loss: 0.2237 - sparse_categorical_accuracy: 0.9750 - val_loss: 0.1441 - val_sparse_categorical_accuracy: 0.9685\n",
      "Epoch 2/100\n",
      "56/56 [==============================] - 150s 3s/step - loss: 0.0917 - sparse_categorical_accuracy: 0.9869 - val_loss: 0.0753 - val_sparse_categorical_accuracy: 0.9843\n",
      "Epoch 3/100\n",
      "56/56 [==============================] - 150s 3s/step - loss: 0.0567 - sparse_categorical_accuracy: 0.9915 - val_loss: 0.0747 - val_sparse_categorical_accuracy: 0.9820\n",
      "Epoch 4/100\n",
      "56/56 [==============================] - 151s 3s/step - loss: 0.0345 - sparse_categorical_accuracy: 0.9955 - val_loss: 0.0579 - val_sparse_categorical_accuracy: 0.9888\n",
      "Epoch 5/100\n",
      "56/56 [==============================] - 151s 3s/step - loss: 0.0156 - sparse_categorical_accuracy: 1.0000 - val_loss: 0.0570 - val_sparse_categorical_accuracy: 0.9843\n",
      "Epoch 6/100\n",
      "56/56 [==============================] - 151s 3s/step - loss: 0.0111 - sparse_categorical_accuracy: 1.0000 - val_loss: 0.0604 - val_sparse_categorical_accuracy: 0.9843\n",
      "Epoch 7/100\n",
      "56/56 [==============================] - 151s 3s/step - loss: 0.0084 - sparse_categorical_accuracy: 1.0000 - val_loss: 0.0602 - val_sparse_categorical_accuracy: 0.9843\n",
      "Epoch 8/100\n",
      "56/56 [==============================] - 151s 3s/step - loss: 0.0066 - sparse_categorical_accuracy: 1.0000 - val_loss: 0.0610 - val_sparse_categorical_accuracy: 0.9843\n",
      "Epoch 9/100\n",
      "56/56 [==============================] - 150s 3s/step - loss: 0.0054 - sparse_categorical_accuracy: 1.0000 - val_loss: 0.0615 - val_sparse_categorical_accuracy: 0.9843\n",
      "Epoch 10/100\n",
      "56/56 [==============================] - 150s 3s/step - loss: 0.0045 - sparse_categorical_accuracy: 1.0000 - val_loss: 0.0628 - val_sparse_categorical_accuracy: 0.9843\n",
      "Epoch 11/100\n",
      "56/56 [==============================] - 150s 3s/step - loss: 0.0038 - sparse_categorical_accuracy: 1.0000 - val_loss: 0.0626 - val_sparse_categorical_accuracy: 0.9843\n",
      "Epoch 12/100\n",
      "56/56 [==============================] - 150s 3s/step - loss: 0.0032 - sparse_categorical_accuracy: 1.0000 - val_loss: 0.0637 - val_sparse_categorical_accuracy: 0.9865\n",
      "Epoch 13/100\n",
      "56/56 [==============================] - 150s 3s/step - loss: 0.0028 - sparse_categorical_accuracy: 1.0000 - val_loss: 0.0647 - val_sparse_categorical_accuracy: 0.9865\n",
      "Epoch 14/100\n",
      "56/56 [==============================] - 151s 3s/step - loss: 0.0024 - sparse_categorical_accuracy: 1.0000 - val_loss: 0.0660 - val_sparse_categorical_accuracy: 0.9865\n",
      "Epoch 15/100\n",
      "56/56 [==============================] - 151s 3s/step - loss: 0.0021 - sparse_categorical_accuracy: 1.0000 - val_loss: 0.0670 - val_sparse_categorical_accuracy: 0.9865\n",
      "Epoch 16/100\n",
      "56/56 [==============================] - 150s 3s/step - loss: 0.0019 - sparse_categorical_accuracy: 1.0000 - val_loss: 0.0667 - val_sparse_categorical_accuracy: 0.9865\n",
      "Epoch 17/100\n",
      "56/56 [==============================] - 150s 3s/step - loss: 0.0017 - sparse_categorical_accuracy: 1.0000 - val_loss: 0.0683 - val_sparse_categorical_accuracy: 0.9865\n",
      "Epoch 18/100\n",
      "56/56 [==============================] - 150s 3s/step - loss: 0.0015 - sparse_categorical_accuracy: 1.0000 - val_loss: 0.0697 - val_sparse_categorical_accuracy: 0.9843\n",
      "Epoch 19/100\n",
      "56/56 [==============================] - 150s 3s/step - loss: 0.0014 - sparse_categorical_accuracy: 1.0000 - val_loss: 0.0706 - val_sparse_categorical_accuracy: 0.9843\n",
      "Epoch 20/100\n",
      "56/56 [==============================] - 150s 3s/step - loss: 0.0012 - sparse_categorical_accuracy: 1.0000 - val_loss: 0.0719 - val_sparse_categorical_accuracy: 0.9843\n",
      "Epoch 21/100\n",
      "56/56 [==============================] - 150s 3s/step - loss: 0.0011 - sparse_categorical_accuracy: 1.0000 - val_loss: 0.0728 - val_sparse_categorical_accuracy: 0.9843\n",
      "Epoch 22/100\n",
      "56/56 [==============================] - 150s 3s/step - loss: 0.0010 - sparse_categorical_accuracy: 1.0000 - val_loss: 0.0733 - val_sparse_categorical_accuracy: 0.9843\n",
      "Epoch 23/100\n",
      "56/56 [==============================] - 150s 3s/step - loss: 9.4155e-04 - sparse_categorical_accuracy: 1.0000 - val_loss: 0.0739 - val_sparse_categorical_accuracy: 0.9843\n",
      "Epoch 24/100\n",
      "56/56 [==============================] - 150s 3s/step - loss: 8.4988e-04 - sparse_categorical_accuracy: 1.0000 - val_loss: 0.0744 - val_sparse_categorical_accuracy: 0.9843\n",
      "Epoch 25/100\n",
      "56/56 [==============================] - 150s 3s/step - loss: 7.9240e-04 - sparse_categorical_accuracy: 1.0000 - val_loss: 0.0751 - val_sparse_categorical_accuracy: 0.9843\n",
      "Epoch 26/100\n",
      "56/56 [==============================] - 150s 3s/step - loss: 7.4060e-04 - sparse_categorical_accuracy: 1.0000 - val_loss: 0.0750 - val_sparse_categorical_accuracy: 0.9843\n",
      "Epoch 27/100\n",
      "56/56 [==============================] - 150s 3s/step - loss: 6.7394e-04 - sparse_categorical_accuracy: 1.0000 - val_loss: 0.0763 - val_sparse_categorical_accuracy: 0.9843\n",
      "Epoch 28/100\n",
      "56/56 [==============================] - 150s 3s/step - loss: 6.2280e-04 - sparse_categorical_accuracy: 1.0000 - val_loss: 0.0768 - val_sparse_categorical_accuracy: 0.9843\n",
      "Epoch 29/100\n",
      "56/56 [==============================] - 150s 3s/step - loss: 5.7871e-04 - sparse_categorical_accuracy: 1.0000 - val_loss: 0.0779 - val_sparse_categorical_accuracy: 0.9843\n",
      "Epoch 30/100\n",
      "56/56 [==============================] - 150s 3s/step - loss: 5.3228e-04 - sparse_categorical_accuracy: 1.0000 - val_loss: 0.0787 - val_sparse_categorical_accuracy: 0.9843\n",
      "Epoch 31/100\n",
      "56/56 [==============================] - 151s 3s/step - loss: 5.0440e-04 - sparse_categorical_accuracy: 1.0000 - val_loss: 0.0797 - val_sparse_categorical_accuracy: 0.9843\n",
      "Epoch 32/100\n",
      "56/56 [==============================] - 150s 3s/step - loss: 4.7405e-04 - sparse_categorical_accuracy: 1.0000 - val_loss: 0.0805 - val_sparse_categorical_accuracy: 0.9843\n",
      "Epoch 33/100\n",
      "56/56 [==============================] - 150s 3s/step - loss: 4.4378e-04 - sparse_categorical_accuracy: 1.0000 - val_loss: 0.0815 - val_sparse_categorical_accuracy: 0.9843\n",
      "Epoch 34/100\n",
      "56/56 [==============================] - 150s 3s/step - loss: 4.0983e-04 - sparse_categorical_accuracy: 1.0000 - val_loss: 0.0822 - val_sparse_categorical_accuracy: 0.9843\n",
      "Epoch 35/100\n",
      "56/56 [==============================] - 150s 3s/step - loss: 3.8810e-04 - sparse_categorical_accuracy: 1.0000 - val_loss: 0.0826 - val_sparse_categorical_accuracy: 0.9843\n",
      "Epoch 36/100\n",
      "56/56 [==============================] - 150s 3s/step - loss: 3.6819e-04 - sparse_categorical_accuracy: 1.0000 - val_loss: 0.0830 - val_sparse_categorical_accuracy: 0.9843\n",
      "Epoch 37/100\n",
      "56/56 [==============================] - 151s 3s/step - loss: 3.4440e-04 - sparse_categorical_accuracy: 1.0000 - val_loss: 0.0841 - val_sparse_categorical_accuracy: 0.9843\n",
      "Epoch 38/100\n",
      "56/56 [==============================] - 150s 3s/step - loss: 3.2281e-04 - sparse_categorical_accuracy: 1.0000 - val_loss: 0.0845 - val_sparse_categorical_accuracy: 0.9843\n",
      "Epoch 39/100\n",
      "56/56 [==============================] - 151s 3s/step - loss: 3.0705e-04 - sparse_categorical_accuracy: 1.0000 - val_loss: 0.0853 - val_sparse_categorical_accuracy: 0.9843\n",
      "Epoch 40/100\n",
      "56/56 [==============================] - 150s 3s/step - loss: 2.8799e-04 - sparse_categorical_accuracy: 1.0000 - val_loss: 0.0860 - val_sparse_categorical_accuracy: 0.9843\n",
      "Epoch 41/100\n",
      "56/56 [==============================] - 150s 3s/step - loss: 2.7200e-04 - sparse_categorical_accuracy: 1.0000 - val_loss: 0.0865 - val_sparse_categorical_accuracy: 0.9843\n",
      "Epoch 42/100\n",
      "56/56 [==============================] - 148s 3s/step - loss: 2.5572e-04 - sparse_categorical_accuracy: 1.0000 - val_loss: 0.0870 - val_sparse_categorical_accuracy: 0.9843\n",
      "Epoch 43/100\n",
      "56/56 [==============================] - 149s 3s/step - loss: 2.4436e-04 - sparse_categorical_accuracy: 1.0000 - val_loss: 0.0875 - val_sparse_categorical_accuracy: 0.9843\n",
      "Epoch 44/100\n",
      "56/56 [==============================] - 150s 3s/step - loss: 2.2596e-04 - sparse_categorical_accuracy: 1.0000 - val_loss: 0.0881 - val_sparse_categorical_accuracy: 0.9843\n",
      "Epoch 45/100\n",
      "56/56 [==============================] - 149s 3s/step - loss: 2.1483e-04 - sparse_categorical_accuracy: 1.0000 - val_loss: 0.0886 - val_sparse_categorical_accuracy: 0.9843\n",
      "Epoch 46/100\n",
      "56/56 [==============================] - 148s 3s/step - loss: 2.0781e-04 - sparse_categorical_accuracy: 1.0000 - val_loss: 0.0893 - val_sparse_categorical_accuracy: 0.9843\n",
      "Epoch 47/100\n",
      "56/56 [==============================] - 151s 3s/step - loss: 1.9477e-04 - sparse_categorical_accuracy: 1.0000 - val_loss: 0.0898 - val_sparse_categorical_accuracy: 0.9843\n",
      "Epoch 48/100\n",
      "56/56 [==============================] - 154s 3s/step - loss: 1.8792e-04 - sparse_categorical_accuracy: 1.0000 - val_loss: 0.0900 - val_sparse_categorical_accuracy: 0.9843\n",
      "Epoch 49/100\n",
      "56/56 [==============================] - 154s 3s/step - loss: 1.7637e-04 - sparse_categorical_accuracy: 1.0000 - val_loss: 0.0905 - val_sparse_categorical_accuracy: 0.9843\n",
      "Epoch 50/100\n",
      "56/56 [==============================] - 151s 3s/step - loss: 1.6741e-04 - sparse_categorical_accuracy: 1.0000 - val_loss: 0.0910 - val_sparse_categorical_accuracy: 0.9843\n",
      "Epoch 51/100\n",
      "56/56 [==============================] - 151s 3s/step - loss: 1.5855e-04 - sparse_categorical_accuracy: 1.0000 - val_loss: 0.0917 - val_sparse_categorical_accuracy: 0.9843\n",
      "Epoch 52/100\n",
      "56/56 [==============================] - 151s 3s/step - loss: 1.5133e-04 - sparse_categorical_accuracy: 1.0000 - val_loss: 0.0917 - val_sparse_categorical_accuracy: 0.9843\n",
      "Epoch 53/100\n",
      "56/56 [==============================] - 150s 3s/step - loss: 1.4750e-04 - sparse_categorical_accuracy: 1.0000 - val_loss: 0.0924 - val_sparse_categorical_accuracy: 0.9843\n",
      "Epoch 54/100\n",
      "56/56 [==============================] - 150s 3s/step - loss: 1.3972e-04 - sparse_categorical_accuracy: 1.0000 - val_loss: 0.0929 - val_sparse_categorical_accuracy: 0.9843\n",
      "Epoch 55/100\n",
      "56/56 [==============================] - 150s 3s/step - loss: 1.3606e-04 - sparse_categorical_accuracy: 1.0000 - val_loss: 0.0936 - val_sparse_categorical_accuracy: 0.9843\n",
      "Epoch 56/100\n",
      "56/56 [==============================] - 150s 3s/step - loss: 1.2966e-04 - sparse_categorical_accuracy: 1.0000 - val_loss: 0.0940 - val_sparse_categorical_accuracy: 0.9843\n",
      "Epoch 57/100\n",
      "56/56 [==============================] - 150s 3s/step - loss: 1.2069e-04 - sparse_categorical_accuracy: 1.0000 - val_loss: 0.0946 - val_sparse_categorical_accuracy: 0.9843\n",
      "Epoch 58/100\n",
      "56/56 [==============================] - 150s 3s/step - loss: 1.1543e-04 - sparse_categorical_accuracy: 1.0000 - val_loss: 0.0948 - val_sparse_categorical_accuracy: 0.9843\n",
      "Epoch 59/100\n",
      "56/56 [==============================] - 150s 3s/step - loss: 1.1312e-04 - sparse_categorical_accuracy: 1.0000 - val_loss: 0.0952 - val_sparse_categorical_accuracy: 0.9843\n",
      "Epoch 60/100\n",
      "56/56 [==============================] - 150s 3s/step - loss: 1.0506e-04 - sparse_categorical_accuracy: 1.0000 - val_loss: 0.0955 - val_sparse_categorical_accuracy: 0.9843\n",
      "Epoch 61/100\n",
      "56/56 [==============================] - 150s 3s/step - loss: 1.0077e-04 - sparse_categorical_accuracy: 1.0000 - val_loss: 0.0960 - val_sparse_categorical_accuracy: 0.9843\n",
      "Epoch 62/100\n",
      "56/56 [==============================] - 152s 3s/step - loss: 9.6724e-05 - sparse_categorical_accuracy: 1.0000 - val_loss: 0.0965 - val_sparse_categorical_accuracy: 0.9843\n",
      "Epoch 63/100\n",
      "56/56 [==============================] - 151s 3s/step - loss: 9.4966e-05 - sparse_categorical_accuracy: 1.0000 - val_loss: 0.0971 - val_sparse_categorical_accuracy: 0.9843\n",
      "Epoch 64/100\n",
      "56/56 [==============================] - 150s 3s/step - loss: 9.0245e-05 - sparse_categorical_accuracy: 1.0000 - val_loss: 0.0974 - val_sparse_categorical_accuracy: 0.9843\n",
      "Epoch 65/100\n",
      "56/56 [==============================] - 150s 3s/step - loss: 8.4509e-05 - sparse_categorical_accuracy: 1.0000 - val_loss: 0.0978 - val_sparse_categorical_accuracy: 0.9843\n",
      "Epoch 66/100\n",
      "56/56 [==============================] - 151s 3s/step - loss: 8.1313e-05 - sparse_categorical_accuracy: 1.0000 - val_loss: 0.0980 - val_sparse_categorical_accuracy: 0.9843\n",
      "Epoch 67/100\n",
      "56/56 [==============================] - 150s 3s/step - loss: 7.9054e-05 - sparse_categorical_accuracy: 1.0000 - val_loss: 0.0987 - val_sparse_categorical_accuracy: 0.9843\n",
      "Epoch 68/100\n",
      "56/56 [==============================] - 150s 3s/step - loss: 7.4417e-05 - sparse_categorical_accuracy: 1.0000 - val_loss: 0.0991 - val_sparse_categorical_accuracy: 0.9843\n",
      "Epoch 69/100\n",
      "56/56 [==============================] - 150s 3s/step - loss: 7.1388e-05 - sparse_categorical_accuracy: 1.0000 - val_loss: 0.1000 - val_sparse_categorical_accuracy: 0.9843\n",
      "Epoch 70/100\n",
      "56/56 [==============================] - 150s 3s/step - loss: 6.9454e-05 - sparse_categorical_accuracy: 1.0000 - val_loss: 0.1002 - val_sparse_categorical_accuracy: 0.9843\n",
      "Epoch 71/100\n",
      "56/56 [==============================] - 151s 3s/step - loss: 6.5344e-05 - sparse_categorical_accuracy: 1.0000 - val_loss: 0.1008 - val_sparse_categorical_accuracy: 0.9843\n",
      "Epoch 72/100\n",
      "56/56 [==============================] - 149s 3s/step - loss: 6.4136e-05 - sparse_categorical_accuracy: 1.0000 - val_loss: 0.1008 - val_sparse_categorical_accuracy: 0.9843\n",
      "Epoch 73/100\n",
      "56/56 [==============================] - 149s 3s/step - loss: 6.0634e-05 - sparse_categorical_accuracy: 1.0000 - val_loss: 0.1012 - val_sparse_categorical_accuracy: 0.9843\n",
      "Epoch 74/100\n",
      "56/56 [==============================] - 152s 3s/step - loss: 5.9020e-05 - sparse_categorical_accuracy: 1.0000 - val_loss: 0.1017 - val_sparse_categorical_accuracy: 0.9843\n",
      "Epoch 75/100\n",
      "56/56 [==============================] - 151s 3s/step - loss: 5.6819e-05 - sparse_categorical_accuracy: 1.0000 - val_loss: 0.1026 - val_sparse_categorical_accuracy: 0.9843\n",
      "Epoch 76/100\n",
      "56/56 [==============================] - 150s 3s/step - loss: 5.4725e-05 - sparse_categorical_accuracy: 1.0000 - val_loss: 0.1032 - val_sparse_categorical_accuracy: 0.9843\n",
      "Epoch 77/100\n",
      "56/56 [==============================] - 150s 3s/step - loss: 5.3291e-05 - sparse_categorical_accuracy: 1.0000 - val_loss: 0.1037 - val_sparse_categorical_accuracy: 0.9843\n",
      "Epoch 78/100\n",
      "56/56 [==============================] - 150s 3s/step - loss: 4.9550e-05 - sparse_categorical_accuracy: 1.0000 - val_loss: 0.1041 - val_sparse_categorical_accuracy: 0.9843\n",
      "Epoch 79/100\n",
      "56/56 [==============================] - 150s 3s/step - loss: 4.8636e-05 - sparse_categorical_accuracy: 1.0000 - val_loss: 0.1043 - val_sparse_categorical_accuracy: 0.9843\n",
      "Epoch 80/100\n",
      "56/56 [==============================] - 151s 3s/step - loss: 4.6603e-05 - sparse_categorical_accuracy: 1.0000 - val_loss: 0.1048 - val_sparse_categorical_accuracy: 0.9843\n",
      "Epoch 81/100\n",
      "56/56 [==============================] - 150s 3s/step - loss: 4.5665e-05 - sparse_categorical_accuracy: 1.0000 - val_loss: 0.1054 - val_sparse_categorical_accuracy: 0.9843\n",
      "Epoch 82/100\n",
      "56/56 [==============================] - 149s 3s/step - loss: 4.3593e-05 - sparse_categorical_accuracy: 1.0000 - val_loss: 0.1058 - val_sparse_categorical_accuracy: 0.9843\n",
      "Epoch 83/100\n",
      "56/56 [==============================] - 152s 3s/step - loss: 4.1687e-05 - sparse_categorical_accuracy: 1.0000 - val_loss: 0.1063 - val_sparse_categorical_accuracy: 0.9843\n",
      "Epoch 84/100\n",
      "56/56 [==============================] - 150s 3s/step - loss: 4.0723e-05 - sparse_categorical_accuracy: 1.0000 - val_loss: 0.1066 - val_sparse_categorical_accuracy: 0.9843\n",
      "Epoch 85/100\n",
      "56/56 [==============================] - 150s 3s/step - loss: 3.9076e-05 - sparse_categorical_accuracy: 1.0000 - val_loss: 0.1064 - val_sparse_categorical_accuracy: 0.9843\n",
      "Epoch 86/100\n",
      "56/56 [==============================] - 150s 3s/step - loss: 3.6078e-05 - sparse_categorical_accuracy: 1.0000 - val_loss: 0.1069 - val_sparse_categorical_accuracy: 0.9843\n",
      "Epoch 87/100\n",
      "56/56 [==============================] - 150s 3s/step - loss: 3.5662e-05 - sparse_categorical_accuracy: 1.0000 - val_loss: 0.1074 - val_sparse_categorical_accuracy: 0.9843\n",
      "Epoch 88/100\n",
      "56/56 [==============================] - 150s 3s/step - loss: 3.4174e-05 - sparse_categorical_accuracy: 1.0000 - val_loss: 0.1079 - val_sparse_categorical_accuracy: 0.9843\n",
      "Epoch 89/100\n",
      "56/56 [==============================] - 150s 3s/step - loss: 3.2900e-05 - sparse_categorical_accuracy: 1.0000 - val_loss: 0.1084 - val_sparse_categorical_accuracy: 0.9843\n",
      "Epoch 90/100\n",
      "56/56 [==============================] - 150s 3s/step - loss: 3.3019e-05 - sparse_categorical_accuracy: 1.0000 - val_loss: 0.1088 - val_sparse_categorical_accuracy: 0.9843\n",
      "Epoch 91/100\n",
      "56/56 [==============================] - 150s 3s/step - loss: 3.0437e-05 - sparse_categorical_accuracy: 1.0000 - val_loss: 0.1093 - val_sparse_categorical_accuracy: 0.9843\n",
      "Epoch 92/100\n",
      "56/56 [==============================] - 151s 3s/step - loss: 2.9439e-05 - sparse_categorical_accuracy: 1.0000 - val_loss: 0.1096 - val_sparse_categorical_accuracy: 0.9843\n",
      "Epoch 93/100\n",
      "56/56 [==============================] - 151s 3s/step - loss: 2.8475e-05 - sparse_categorical_accuracy: 1.0000 - val_loss: 0.1100 - val_sparse_categorical_accuracy: 0.9843\n",
      "Epoch 94/100\n",
      "56/56 [==============================] - 151s 3s/step - loss: 2.7736e-05 - sparse_categorical_accuracy: 1.0000 - val_loss: 0.1104 - val_sparse_categorical_accuracy: 0.9843\n",
      "Epoch 95/100\n",
      "56/56 [==============================] - 151s 3s/step - loss: 2.6717e-05 - sparse_categorical_accuracy: 1.0000 - val_loss: 0.1108 - val_sparse_categorical_accuracy: 0.9843\n",
      "Epoch 96/100\n",
      "56/56 [==============================] - 149s 3s/step - loss: 2.5312e-05 - sparse_categorical_accuracy: 1.0000 - val_loss: 0.1113 - val_sparse_categorical_accuracy: 0.9843\n",
      "Epoch 97/100\n",
      "56/56 [==============================] - 151s 3s/step - loss: 2.5404e-05 - sparse_categorical_accuracy: 1.0000 - val_loss: 0.1119 - val_sparse_categorical_accuracy: 0.9843\n",
      "Epoch 98/100\n",
      "56/56 [==============================] - 152s 3s/step - loss: 2.3597e-05 - sparse_categorical_accuracy: 1.0000 - val_loss: 0.1123 - val_sparse_categorical_accuracy: 0.9843\n",
      "Epoch 99/100\n",
      "56/56 [==============================] - 149s 3s/step - loss: 2.3277e-05 - sparse_categorical_accuracy: 1.0000 - val_loss: 0.1126 - val_sparse_categorical_accuracy: 0.9843\n",
      "Epoch 100/100\n",
      "56/56 [==============================] - 151s 3s/step - loss: 2.2683e-05 - sparse_categorical_accuracy: 1.0000 - val_loss: 0.1130 - val_sparse_categorical_accuracy: 0.9843\n"
     ]
    }
   ],
   "source": [
    "history = model.fit(train_dataset, validation_data=val_dataset, epochs=100)\n",
    "\n",
    "model.save_pretrained(\"./results\")"
   ]
  },
  {
   "cell_type": "markdown",
   "metadata": {},
   "source": [
    "### plotting Loss and accuracy"
   ]
  },
  {
   "cell_type": "code",
   "execution_count": 46,
   "metadata": {},
   "outputs": [
    {
     "data": {
      "image/png": "[encoded data removed]",
      "text/plain": [
       "<Figure size 1200x600 with 2 Axes>"
      ]
     },
     "metadata": {},
     "output_type": "display_data"
    }
   ],
   "source": [
    "# Plot the training and validation loss\n",
    "plt.figure(figsize=(12, 6))\n",
    "\n",
    "# Loss Plot\n",
    "plt.subplot(1, 2, 1)\n",
    "plt.plot(history.history['loss'], label='Training Loss')\n",
    "plt.plot(history.history['val_loss'], label='Validation Loss')\n",
    "plt.xlabel('Epoch')\n",
    "plt.ylabel('Loss')\n",
    "plt.legend(loc='upper right')\n",
    "plt.title('Training and Validation Loss')\n",
    "\n",
    "# Accuracy Plot\n",
    "plt.subplot(1, 2, 2)\n",
    "plt.plot(history.history['sparse_categorical_accuracy'], label='Training Accuracy')\n",
    "plt.plot(history.history['val_sparse_categorical_accuracy'], label='Validation Accuracy')\n",
    "plt.xlabel('Epoch')\n",
    "plt.ylabel('Accuracy')\n",
    "plt.legend(loc='lower right')\n",
    "plt.title('Training and Validation Accuracy')\n",
    "\n",
    "plt.tight_layout()\n",
    "plt.show()"
   ]
  },
  {
   "cell_type": "code",
   "execution_count": 16,
   "metadata": {},
   "outputs": [
    {
     "data": {
      "text/plain": [
       "('./results/tokenizer_config.json',\n",
       " './results/special_tokens_map.json',\n",
       " './results/vocab.txt',\n",
       " './results/added_tokens.json',\n",
       " './results/tokenizer.json')"
      ]
     },
     "execution_count": 16,
     "metadata": {},
     "output_type": "execute_result"
    }
   ],
   "source": [
    "tokenizer.save_pretrained(\"./results\")"
   ]
  },
  {
   "cell_type": "code",
   "execution_count": 17,
   "metadata": {},
   "outputs": [
    {
     "name": "stdout",
     "output_type": "stream",
     "text": [
      "1/1 [==============================] - 0s 464ms/step - loss: 0.3535 - sparse_categorical_accuracy: 1.0000\n",
      "Test Loss 0.35351499915122986\n",
      "Test Accuracy 1.0\n"
     ]
    }
   ],
   "source": [
    "test_loss, test_accuracy = model.evaluate(test_dataset)\n",
    "print(\"Test Loss\", test_loss)\n",
    "print(\"Test Accuracy\", test_accuracy)"
   ]
  },
  {
   "cell_type": "markdown",
   "metadata": {},
   "source": [
    "### Loading the pretrained model"
   ]
  },
  {
   "cell_type": "code",
   "execution_count": 17,
   "metadata": {},
   "outputs": [
    {
     "name": "stderr",
     "output_type": "stream",
     "text": [
      "Some layers from the model checkpoint at ./results were not used when initializing TFDistilBertForSequenceClassification: ['dropout_19']\n",
      "- This IS expected if you are initializing TFDistilBertForSequenceClassification from the checkpoint of a model trained on another task or with another architecture (e.g. initializing a BertForSequenceClassification model from a BertForPreTraining model).\n",
      "- This IS NOT expected if you are initializing TFDistilBertForSequenceClassification from the checkpoint of a model that you expect to be exactly identical (initializing a BertForSequenceClassification model from a BertForSequenceClassification model).\n",
      "Some layers of TFDistilBertForSequenceClassification were not initialized from the model checkpoint at ./results and are newly initialized: ['dropout_39']\n",
      "You should probably TRAIN this model on a down-stream task to be able to use it for predictions and inference.\n"
     ]
    }
   ],
   "source": [
    "# Load tokenizer and model\n",
    "tokenizer_fine_tuned = AutoTokenizer.from_pretrained(\"./results\")\n",
    "model_fine_tuned = TFDistilBertForSequenceClassification.from_pretrained(\"./results\")\n"
   ]
  },
  {
   "cell_type": "code",
   "execution_count": 38,
   "metadata": {},
   "outputs": [],
   "source": [
    "test_text = test_texts[5]"
   ]
  },
  {
   "cell_type": "code",
   "execution_count": 39,
   "metadata": {},
   "outputs": [
    {
     "data": {
      "text/plain": [
       "'blair stresses prosperity goals tony blair says his party s next manifesto will be  unremittingly new labour  and aimed at producing  personal prosperity for all .  the prime minister is trying to draw a line under speculation over the state of his relationship with gordon brown with the speech in chatham  kent. he is saying that prosperity means both individual wealth and ensuring  radically improved  public services. he is also claiming labour is more ideologically united than ever. mr brown is currently touring africa after a week of facing questions about reports of his splits with downing street.  with the election widely predicted for may  angry labour mps this week warned mr blair and mr brown about the dangers of disunity. now mr blair is trying to put the focus on the substance of labour s platform for a third term in government. labour made low inflation  unemployment and mortgage rates the centrepiece of a new poster campaign this week.  and on thursday mr blair is saying:  i want to talk about the central purpose ofnew labour - which is to increase personal prosperity and well-being  not justfor a few but for all.  by prosperity i mean both the income and wealth of individuals and theirfamilies  and the opportunity and security available to them through radicallyimproved public services and a reformed welfare state.   the tories are trying to capitalise on the apparent feud at the top of government. on wednesday they unveiled a poster which pictured the prime minister and mr brown under the words  how can they fight crime when they are fighting each other   michael howard and frontbencher john redwood on thursday launched new plans to abolish hundreds of quangos. they say government is spending too much and lower taxes are needed to make britain more competitive.  the liberal democrats have also claimed infighting its obstructing good government. the latest speculation about relations between new labour s two most powerful figures came after the publication of a new book  brown s britain by robert preston. in it he alleges that mr blair told mr brown in 2003 he would step down as prime minister before the coming general election. the book claims the premier went back on his pledge after support from cabinet allies and suspicion that mr brown was manoeuvring against him. mr peston s book claimed that mr brown told mr blair:  there is nothing you could ever say to me now that i could ever believe.  on wednesday mr blair directly denied mr brown made that quote  and before he left for africa on tuesday the chancellor told reporters:  of course i trust the prime minister.'"
      ]
     },
     "execution_count": 39,
     "metadata": {},
     "output_type": "execute_result"
    }
   ],
   "source": [
    "test_text"
   ]
  },
  {
   "cell_type": "code",
   "execution_count": 40,
   "metadata": {},
   "outputs": [],
   "source": [
    "encoding = tokenizer_fine_tuned(test_text, truncation=True, padding=True, max_length=max_length, return_tensors='tf')"
   ]
  },
  {
   "cell_type": "code",
   "execution_count": 41,
   "metadata": {},
   "outputs": [],
   "source": [
    "logits = model_fine_tuned(**encoding).logits"
   ]
  },
  {
   "cell_type": "code",
   "execution_count": 42,
   "metadata": {},
   "outputs": [
    {
     "name": "stdout",
     "output_type": "stream",
     "text": [
      "predicted_class: 2\n"
     ]
    }
   ],
   "source": [
    "predicted_class = tf.argmax(logits, axis=-1).numpy()[0]\n",
    "print(\"predicted_class:\", predicted_class)"
   ]
  },
  {
   "cell_type": "code",
   "execution_count": 43,
   "metadata": {},
   "outputs": [
    {
     "data": {
      "text/plain": [
       "2"
      ]
     },
     "execution_count": 43,
     "metadata": {},
     "output_type": "execute_result"
    }
   ],
   "source": [
    "test_labels[5]"
   ]
  }
 ],
 "metadata": {
  "kernelspec": {
   "display_name": ".emailvenv",
   "language": "python",
   "name": "python3"
  },
  "language_info": {
   "codemirror_mode": {
    "name": "ipython",
    "version": 3
   },
   "file_extension": ".py",
   "mimetype": "text/x-python",
   "name": "python",
   "nbconvert_exporter": "python",
   "pygments_lexer": "ipython3",
   "version": "3.9.7"
  }
 },
 "nbformat": 4,
 "nbformat_minor": 2
}
